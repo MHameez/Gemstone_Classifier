{
 "cells": [
  {
   "cell_type": "code",
   "execution_count": 114,
   "metadata": {},
   "outputs": [],
   "source": [
    "import cv2\n",
    "import os\n",
    "import glob\n",
    "import numpy as np\n",
    "import matplotlib.pyplot as plt"
   ]
  },
  {
   "cell_type": "code",
   "execution_count": 118,
   "metadata": {},
   "outputs": [],
   "source": [
    "input_path = 'C:/Users/Hameez/.conda/envs/gemstone_dataset/Data/Test/'\n",
    "output_path = 'C:/Users/Hameez/.conda/envs/gemstone_dataset/Data/Cropped/Test/'"
   ]
  },
  {
   "cell_type": "code",
   "execution_count": 124,
   "metadata": {},
   "outputs": [],
   "source": [
    "def centre_crop(img, crop_percent):\n",
    "    \"Takes an Image and the crop the centre of the image based\"\n",
    "    \"percentage removed from all four edges of the image\"\n",
    "\n",
    "    x = img.shape\n",
    "    remove = crop_percent/100\n",
    "    x1 = int(x[0] * remove)\n",
    "    x2 = int(x[0] * (1-remove))\n",
    "    imgCropped = img[x1:x2,x1:x2]\n",
    "    \n",
    "    return imgCropped\n",
    "\n",
    "# imgCropped = centre_crop(img, 25)\n",
    "# plt.title(\"Cropped\")\n",
    "# plt.imshow(imgCropped)\n"
   ]
  },
  {
   "cell_type": "code",
   "execution_count": 122,
   "metadata": {},
   "outputs": [],
   "source": [
    "\n",
    "rootdir = input_path\n",
    "\n",
    "for subdir, dirs, files in os.walk(rootdir):\n",
    "#create sub folders for cropped images\n",
    "    for d in dirs:\n",
    "        new_sub_fold = output_path + d\n",
    "        if not os.path.exists(new_sub_fold):\n",
    "            os.makedirs(new_sub_fold)\n",
    "\n",
    "#crop and save images to new directory\n",
    "for subdir2, dirs2, files2 in os.walk(rootdir):\n",
    "    for file in files2: \n",
    "        inp = os.path.join(subdir2, file)\n",
    "        out_fold = os.path.basename(subdir2)\n",
    "        img = cv2.imread(inp)\n",
    "        imgCropped = centre_crop(img, 25)\n",
    "        cv2.imwrite(output_path+out_fold+'/'+os.path.basename(inp), imgCropped) \n",
    "       \n",
    "        "
   ]
  }
 ],
 "metadata": {
  "kernelspec": {
   "display_name": "Python 3",
   "language": "python",
   "name": "python3"
  },
  "language_info": {
   "codemirror_mode": {
    "name": "ipython",
    "version": 3
   },
   "file_extension": ".py",
   "mimetype": "text/x-python",
   "name": "python",
   "nbconvert_exporter": "python",
   "pygments_lexer": "ipython3",
   "version": "3.7.9"
  }
 },
 "nbformat": 4,
 "nbformat_minor": 4
}
