{
 "cells": [
  {
   "cell_type": "code",
   "execution_count": 1,
   "metadata": {},
   "outputs": [],
   "source": [
    "from tensorflow.keras.preprocessing.image import ImageDataGenerator, img_to_array, array_to_img\n",
    "from tensorflow.keras.preprocessing import image\n",
    "from tensorflow.keras.optimizers import RMSprop, SGD\n",
    "from tensorflow.keras import applications\n",
    "from tensorflow.keras import layers\n",
    "from tensorflow import keras\n",
    "import tensorflow as tf\n",
    "\n",
    "import matplotlib.pyplot as plt\n",
    "import numpy as np\n",
    "import pandas as pd\n",
    "import os\n",
    "from scipy import misc, ndimage\n",
    "import glob\n",
    "import matplotlib.image as mpimg\n",
    "import cv2\n",
    "\n",
    "#from transform_image_data import centre_crop\n",
    "\n",
    "%matplotlib inline"
   ]
  },
  {
   "cell_type": "code",
   "execution_count": 2,
   "metadata": {},
   "outputs": [
    {
     "name": "stdout",
     "output_type": "stream",
     "text": [
      "Default GPU Device:/device:GPU:0\n",
      "2.1.0\n"
     ]
    }
   ],
   "source": [
    "if tf.test.gpu_device_name(): \n",
    "    print('Default GPU Device:{}'.format(tf.test.gpu_device_name()))\n",
    "else:\n",
    "    print(\"Please install GPU version of TF\")\n",
    "print(tf.__version__)"
   ]
  },
  {
   "cell_type": "code",
   "execution_count": 3,
   "metadata": {},
   "outputs": [
    {
     "name": "stdout",
     "output_type": "stream",
     "text": [
      "Found 2857 images belonging to 87 classes.\n",
      "Found 363 images belonging to 87 classes.\n"
     ]
    }
   ],
   "source": [
    "#import Data\n",
    "\n",
    "train_folder = \"C:/Users/Hameez/.conda/envs/gemstone_dataset/Data/Cropped/Train/\"\n",
    "test_folder = \"C:/Users/Hameez/.conda/envs/gemstone_dataset/Data/Cropped/Test/\"\n",
    "\n",
    "\n",
    "# img = image.load_img(train_folder+\"/Alexandrite/alexandrite_2.jpg\")\n",
    "# # plt.imshow(img)\n",
    "# # plt.show()\n",
    "# print(cv2.imread(\"Data/Train/Alexandrite/alexandrite_24.jpg\").shape)\n",
    "\n",
    "#------------Image augmentation for train images----------------------------------#\n",
    "train = ImageDataGenerator(rescale=1./255, shear_range=0.5,\n",
    "                           rotation_range=90, channel_shift_range=2.5, \n",
    "                           zoom_range=0.3,\n",
    "                           horizontal_flip=True)\n",
    "\n",
    "#---------------------------------------------------------------------------#\n",
    "\n",
    "test = ImageDataGenerator(rescale=1./255)\n",
    "\n",
    "im_height = im_width = 224\n",
    "\n",
    "batch_sz = 32\n",
    "\n",
    "train_data = train.flow_from_directory(train_folder,\n",
    "                                       target_size=(im_height,im_width),\n",
    "                                       class_mode='categorical', batch_size=batch_sz)\n",
    "test_data = test.flow_from_directory(test_folder,\n",
    "                                       target_size=(im_height,im_width),\n",
    "                                       class_mode='categorical')\n",
    "\n",
    "\n",
    "\n"
   ]
  },
  {
   "cell_type": "markdown",
   "metadata": {},
   "source": [
    "### CNN Model "
   ]
  },
  {
   "cell_type": "code",
   "execution_count": 4,
   "metadata": {},
   "outputs": [
    {
     "name": "stderr",
     "output_type": "stream",
     "text": [
      "C:\\Users\\Hameez\\.conda\\envs\\gpu_tf\\lib\\site-packages\\keras_applications\\mobilenet_v2.py:294: UserWarning: `input_shape` is undefined or non-square, or `rows` is not in [96, 128, 160, 192, 224]. Weights for input shape (224, 224) will be loaded as the default.\n",
      "  warnings.warn('`input_shape` is undefined or non-square, '\n"
     ]
    }
   ],
   "source": [
    "from tensorflow.keras.applications.mobilenet_v2 import preprocess_input\n",
    "base_model = tf.keras.applications.MobileNetV2(weights='imagenet', include_top=False)\n",
    "#base_model.summary()"
   ]
  },
  {
   "cell_type": "code",
   "execution_count": 5,
   "metadata": {
    "scrolled": false
   },
   "outputs": [],
   "source": [
    "x = base_model.output\n",
    "x = tf.keras.layers.GlobalAveragePooling2D()(x)\n",
    "x = tf.keras.layers.Dense(1024, activation='relu')(x)\n",
    "x = tf.keras.layers.Dropout(0.1)(x)\n",
    "x = tf.keras.layers.Dense(1024, activation='relu')(x)\n",
    "x = tf.keras.layers.Dropout(0.1)(x)\n",
    "x = tf.keras.layers.BatchNormalization()(x)\n",
    "predictions =  tf.keras.layers.Dense(87, activation='softmax')(x)\n",
    "\n",
    "for layers in base_model.layers:\n",
    "    layers.trainable = False # freeze layers that we dont want to train\n",
    "    \n",
    "\n",
    "final_model = tf.keras.models.Model(inputs=base_model.inputs, outputs=predictions)\n",
    "sgd = SGD(lr=1e-3, decay=1e-6, momentum=0.9, nesterov=True)\n",
    "#final_model.summary()"
   ]
  },
  {
   "cell_type": "code",
   "execution_count": 6,
   "metadata": {
    "scrolled": true
   },
   "outputs": [
    {
     "name": "stdout",
     "output_type": "stream",
     "text": [
      "WARNING:tensorflow:From <ipython-input-6-3326b64f4047>:5: Model.fit_generator (from tensorflow.python.keras.engine.training) is deprecated and will be removed in a future version.\n",
      "Instructions for updating:\n",
      "Please use Model.fit, which supports generators.\n",
      "WARNING:tensorflow:sample_weight modes were coerced from\n",
      "  ...\n",
      "    to  \n",
      "  ['...']\n",
      "WARNING:tensorflow:sample_weight modes were coerced from\n",
      "  ...\n",
      "    to  \n",
      "  ['...']\n",
      "Train for 90 steps, validate for 12 steps\n",
      "Epoch 1/10\n",
      "90/90 [==============================] - 54s 602ms/step - loss: 4.5044 - accuracy: 0.0641 - val_loss: 4.1940 - val_accuracy: 0.0744\n",
      "Epoch 2/10\n",
      "90/90 [==============================] - 49s 542ms/step - loss: 3.2030 - accuracy: 0.2398 - val_loss: 3.9156 - val_accuracy: 0.1047\n",
      "Epoch 3/10\n",
      "90/90 [==============================] - 51s 562ms/step - loss: 2.5751 - accuracy: 0.3651 - val_loss: 3.9084 - val_accuracy: 0.1240\n",
      "Epoch 4/10\n",
      "90/90 [==============================] - 66s 732ms/step - loss: 2.2298 - accuracy: 0.4228 - val_loss: 4.1205 - val_accuracy: 0.1240\n",
      "Epoch 5/10\n",
      "90/90 [==============================] - 89s 985ms/step - loss: 1.9526 - accuracy: 0.4865 - val_loss: 4.2784 - val_accuracy: 0.1433\n",
      "Epoch 6/10\n",
      "90/90 [==============================] - 103s 1s/step - loss: 1.8354 - accuracy: 0.5187 - val_loss: 4.4872 - val_accuracy: 0.1570\n",
      "Epoch 7/10\n",
      "90/90 [==============================] - 266s 3s/step - loss: 1.6691 - accuracy: 0.5460 - val_loss: 4.5918 - val_accuracy: 0.1405\n",
      "Epoch 8/10\n",
      "90/90 [==============================] - 56s 619ms/step - loss: 1.6109 - accuracy: 0.5534 - val_loss: 4.6305 - val_accuracy: 0.1433\n",
      "Epoch 9/10\n",
      "90/90 [==============================] - 81s 905ms/step - loss: 1.5186 - accuracy: 0.5936 - val_loss: 4.4420 - val_accuracy: 0.1433\n",
      "Epoch 10/10\n",
      "90/90 [==============================] - 154s 2s/step - loss: 1.4157 - accuracy: 0.6034 - val_loss: 4.4616 - val_accuracy: 0.1405\n"
     ]
    }
   ],
   "source": [
    "final_model.compile(loss='categorical_crossentropy',\n",
    "                  optimizer=sgd,\n",
    "                  metrics=['accuracy'])\n",
    "\n",
    "history = final_model.fit_generator(train_data, epochs=10, validation_data=test_data, verbose=1)"
   ]
  },
  {
   "cell_type": "code",
   "execution_count": 9,
   "metadata": {},
   "outputs": [
    {
     "data": {
      "image/png": "[encoded data removed]",
      "text/plain": [
       "<Figure size 432x288 with 1 Axes>"
      ]
     },
     "metadata": {
      "needs_background": "light"
     },
     "output_type": "display_data"
    }
   ],
   "source": [
    "# summarize history for accuracy\n",
    "plt.plot(history.history['accuracy'])\n",
    "plt.plot(history.history['val_accuracy'])\n",
    "plt.title('model accuracy')\n",
    "plt.ylabel('accuracy')\n",
    "plt.xlabel('epoch')\n",
    "plt.legend(['train', 'test'], loc='upper left')\n",
    "plt.show()"
   ]
  },
  {
   "cell_type": "code",
   "execution_count": 10,
   "metadata": {},
   "outputs": [
    {
     "data": {
      "image/png": "[encoded data removed]",
      "text/plain": [
       "<Figure size 432x288 with 1 Axes>"
      ]
     },
     "metadata": {
      "needs_background": "light"
     },
     "output_type": "display_data"
    }
   ],
   "source": [
    "# summarize history for loss\n",
    "plt.plot(history.history['loss'])\n",
    "plt.plot(history.history['val_loss'])\n",
    "plt.title('model loss')\n",
    "plt.ylabel('loss')\n",
    "plt.xlabel('epoch')\n",
    "plt.legend(['train', 'test'], loc='upper left')\n",
    "plt.show()"
   ]
  },
  {
   "cell_type": "code",
   "execution_count": null,
   "metadata": {},
   "outputs": [],
   "source": [
    "\n",
    "model_path ='Saved Models Transfer/gs_MobileNetV2_v1.1.h5'\n",
    "final_model.save(model_path)\n",
    "\n",
    "model = tf.keras.models.load_model(model_path)"
   ]
  },
  {
   "cell_type": "code",
   "execution_count": null,
   "metadata": {},
   "outputs": [],
   "source": [
    "unsean_stone_path = \"C:/Users/Hameez/.conda/envs/gemstone_dataset/Data/Unseen/blue_sapph.jpg\"\n",
    "img = image.load_img(unsean_stone_path, target_size=(im_height, im_width))\n",
    "x = image.img_to_array(img)\n",
    "x = np.expand_dims(x, axis=0)\n",
    "x = preprocess_input(x)\n",
    "print(os.path.basename(unsean_stone_path))\n",
    "img"
   ]
  },
  {
   "cell_type": "code",
   "execution_count": null,
   "metadata": {},
   "outputs": [],
   "source": [
    "preds = model.predict(x)\n",
    "classess = train_data.class_indices\n",
    "for name in classess:\n",
    "    if classess[name] == int(preds.argmax(axis=-1)):\n",
    "        print(\"Predicts that its a: \"+name)\n",
    "    else:\n",
    "        \"Couldn't find stone name!\""
   ]
  },
  {
   "cell_type": "code",
   "execution_count": null,
   "metadata": {},
   "outputs": [],
   "source": []
  }
 ],
 "metadata": {
  "kernelspec": {
   "display_name": "gpu_tf",
   "language": "python",
   "name": "gpu_tf"
  },
  "language_info": {
   "codemirror_mode": {
    "name": "ipython",
    "version": 3
   },
   "file_extension": ".py",
   "mimetype": "text/x-python",
   "name": "python",
   "nbconvert_exporter": "python",
   "pygments_lexer": "ipython3",
   "version": "3.7.9"
  }
 },
 "nbformat": 4,
 "nbformat_minor": 4
}
