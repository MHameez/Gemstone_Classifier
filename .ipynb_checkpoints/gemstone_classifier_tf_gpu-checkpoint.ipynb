{
 "cells": [
  {
   "cell_type": "code",
   "execution_count": 1,
   "metadata": {},
   "outputs": [],
   "source": [
    "from tensorflow.keras.preprocessing.image import ImageDataGenerator, img_to_array, array_to_img\n",
    "from tensorflow.keras.preprocessing import image\n",
    "from tensorflow.keras.optimizers import RMSprop\n",
    "import tensorflow as tf\n",
    "\n",
    "import matplotlib.pyplot as plt\n",
    "import numpy as np\n",
    "import pandas as pd\n",
    "import os\n",
    "from scipy import misc, ndimage\n",
    "\n",
    "%matplotlib inline"
   ]
  },
  {
   "cell_type": "code",
   "execution_count": 2,
   "metadata": {},
   "outputs": [
    {
     "name": "stdout",
     "output_type": "stream",
     "text": [
      "Default GPU Device:/device:GPU:0\n",
      "2.1.0\n"
     ]
    }
   ],
   "source": [
    "if tf.test.gpu_device_name(): \n",
    "    print('Default GPU Device:{}'.format(tf.test.gpu_device_name()))\n",
    "else:\n",
    "    print(\"Please install GPU version of TF\")\n",
    "print(tf.__version__)"
   ]
  },
  {
   "cell_type": "code",
   "execution_count": 3,
   "metadata": {},
   "outputs": [
    {
     "name": "stdout",
     "output_type": "stream",
     "text": [
      "ERROR! Session/line number was not unique in database. History logging moved to new session 674\n",
      "Found 2856 images belonging to 87 classes.\n",
      "Found 363 images belonging to 87 classes.\n"
     ]
    }
   ],
   "source": [
    "#import Data\n",
    "\n",
    "train_folder = \"C:/Users/Hameez/.conda/envs/gemstone_dataset/Data/Train/\"\n",
    "test_folder = \"C:/Users/Hameez/.conda/envs/gemstone_dataset/Data/Test/\"\n",
    "\n",
    "\n",
    "# img = image.load_img(train_folder+\"/Alexandrite/alexandrite_2.jpg\")\n",
    "# # plt.imshow(img)\n",
    "# # plt.show()\n",
    "# print(cv2.imread(\"Data/Train/Alexandrite/alexandrite_24.jpg\").shape)\n",
    "\n",
    "#------------augmentation for train images----------------------------------#\n",
    "train = ImageDataGenerator(rescale=1/255, rotation_range=45, zoom_range=0.2,\n",
    "                          width_shift_range=0.2, height_shift_range=0.2,\n",
    "                          shear_range=0.25, channel_shift_range=10.,horizontal_flip=True, vertical_flip=True)\n",
    "#---------------------------------------------------------------------------#\n",
    "\n",
    "test = ImageDataGenerator(rescale=1/255)\n",
    "\n",
    "\n",
    "train_data = train.flow_from_directory(train_folder,\n",
    "                                       target_size=(256,256),\n",
    "                                       class_mode='categorical')\n",
    "test_data = test.flow_from_directory(test_folder,\n",
    "                                       target_size=(256,256),\n",
    "                                       class_mode='categorical')\n",
    "\n",
    "\n",
    "\n"
   ]
  },
  {
   "cell_type": "code",
   "execution_count": 4,
   "metadata": {},
   "outputs": [],
   "source": [
    "# test_augment = ImageDataGenerator(rescale=1/255, rotation_range=90,\n",
    "#                           width_shift_range=0.2, height_shift_range=0.1,\n",
    "#                           shear_range=0.25, channel_shift_range=10.,horizontal_flip=True, vertical_flip=True)\n",
    "# img = image.load_img(train_folder+\"/Alexandrite/alexandrite_5.jpg\")\n",
    "# plt.imshow(img)\n",
    "\n"
   ]
  },
  {
   "cell_type": "code",
   "execution_count": 5,
   "metadata": {},
   "outputs": [],
   "source": [
    "# x = img_to_array(img)\n",
    "# x = x.reshape((1,) + x.shape)\n",
    "\n",
    "# i = 0\n",
    "# for batch in test_augment.flow(x, batch_size=1,\n",
    "#                               save_to_dir='Augmented', save_prefix='alexandrite',\n",
    "#                                save_format='jpeg',):\n",
    "#     i += 1\n",
    "#     if i > 20:\n",
    "#         break"
   ]
  },
  {
   "cell_type": "code",
   "execution_count": null,
   "metadata": {},
   "outputs": [],
   "source": [
    "\n",
    "cnn_model = tf.keras.models.Sequential([tf.keras.layers.Conv2D(16,(3,3),activation='relu',input_shape=(256,256,3)),\n",
    "                                        tf.keras.layers.MaxPool2D(2,2),\n",
    "                                        #\n",
    "                                        tf.keras.layers.Conv2D(32,(3,3),activation='relu'),\n",
    "                                        tf.keras.layers.MaxPool2D(2,2),\n",
    "                                        #\n",
    "                                        tf.keras.layers.Conv2D(64,(3,3),activation='relu'),\n",
    "                                        tf.keras.layers.MaxPool2D(2,2),\n",
    "                                        #\n",
    "                                        tf.keras.layers.Conv2D(128,(3,3),activation='relu'),\n",
    "                                        tf.keras.layers.MaxPool2D(2,2),\n",
    "                                        #\n",
    "                                        tf.keras.layers.Conv2D(256,(3,3),activation='relu'),\n",
    "                                        tf.keras.layers.MaxPool2D(2,2),\n",
    "                                        #\n",
    "                                        tf.keras.layers.Flatten(),\n",
    "                                        ##\n",
    "                                        tf.keras.layers.Dense(128, activation='relu'),\n",
    "                                        ##\n",
    "                                        tf.keras.layers.Dense(256, activation='relu'),\n",
    "                                        ##\n",
    "                                        tf.keras.layers.Dense(512, activation='relu'),\n",
    "                                        ##\n",
    "                                        tf.keras.layers.Dense(87, activation='softmax')\n",
    "                                        ])\n",
    "cnn_model.summary()\n"
   ]
  },
  {
   "cell_type": "code",
   "execution_count": 7,
   "metadata": {},
   "outputs": [
    {
     "name": "stdout",
     "output_type": "stream",
     "text": [
      "WARNING:tensorflow:From <ipython-input-7-45ff8bba7c14>:5: Model.fit_generator (from tensorflow.python.keras.engine.training) is deprecated and will be removed in a future version.\n",
      "Instructions for updating:\n",
      "Please use Model.fit, which supports generators.\n",
      "WARNING:tensorflow:sample_weight modes were coerced from\n",
      "  ...\n",
      "    to  \n",
      "  ['...']\n",
      "WARNING:tensorflow:sample_weight modes were coerced from\n",
      "  ...\n",
      "    to  \n",
      "  ['...']\n",
      "Train for 90 steps, validate for 12 steps\n",
      "Epoch 1/50\n",
      "90/90 [==============================] - 60s 669ms/step - loss: 4.2633 - accuracy: 0.0165 - val_loss: 3.9453 - val_accuracy: 0.0275\n",
      "Epoch 2/50\n",
      "90/90 [==============================] - 56s 627ms/step - loss: 3.7887 - accuracy: 0.0406 - val_loss: 3.5587 - val_accuracy: 0.0606\n",
      "Epoch 3/50\n",
      "90/90 [==============================] - 57s 629ms/step - loss: 3.5595 - accuracy: 0.0501 - val_loss: 3.4079 - val_accuracy: 0.0716\n",
      "Epoch 4/50\n",
      "90/90 [==============================] - 57s 629ms/step - loss: 3.4368 - accuracy: 0.0693 - val_loss: 3.3100 - val_accuracy: 0.0882\n",
      "Epoch 5/50\n",
      "90/90 [==============================] - 57s 630ms/step - loss: 3.3077 - accuracy: 0.1036 - val_loss: 3.1489 - val_accuracy: 0.1074\n",
      "Epoch 6/50\n",
      "90/90 [==============================] - 57s 638ms/step - loss: 3.1971 - accuracy: 0.1208 - val_loss: 3.1201 - val_accuracy: 0.1350\n",
      "Epoch 7/50\n",
      "90/90 [==============================] - 57s 631ms/step - loss: 3.1417 - accuracy: 0.1257 - val_loss: 3.1137 - val_accuracy: 0.1295\n",
      "Epoch 8/50\n",
      "90/90 [==============================] - 58s 640ms/step - loss: 3.0128 - accuracy: 0.1453 - val_loss: 3.0306 - val_accuracy: 0.1570\n",
      "Epoch 9/50\n",
      "90/90 [==============================] - 58s 639ms/step - loss: 2.9188 - accuracy: 0.1691 - val_loss: 2.8472 - val_accuracy: 0.1901\n",
      "Epoch 10/50\n",
      "90/90 [==============================] - 58s 643ms/step - loss: 2.7787 - accuracy: 0.1968 - val_loss: 2.7071 - val_accuracy: 0.1901\n",
      "Epoch 11/50\n",
      "90/90 [==============================] - 57s 634ms/step - loss: 2.5700 - accuracy: 0.2328 - val_loss: 2.5069 - val_accuracy: 0.2507\n",
      "Epoch 12/50\n",
      "90/90 [==============================] - 57s 633ms/step - loss: 2.4538 - accuracy: 0.2472 - val_loss: 2.3697 - val_accuracy: 0.2920\n",
      "Epoch 13/50\n",
      "90/90 [==============================] - 136s 2s/step - loss: 2.2867 - accuracy: 0.3022 - val_loss: 2.4096 - val_accuracy: 0.2920\n",
      "Epoch 14/50\n",
      "90/90 [==============================] - 73s 807ms/step - loss: 2.2256 - accuracy: 0.3029 - val_loss: 2.2339 - val_accuracy: 0.3168\n",
      "Epoch 15/50\n",
      "90/90 [==============================] - 57s 630ms/step - loss: 2.0097 - accuracy: 0.3547 - val_loss: 2.0782 - val_accuracy: 0.3609\n",
      "Epoch 16/50\n",
      "90/90 [==============================] - 56s 627ms/step - loss: 1.9169 - accuracy: 0.3810 - val_loss: 1.9932 - val_accuracy: 0.3719\n",
      "Epoch 17/50\n",
      "90/90 [==============================] - 57s 633ms/step - loss: 1.8680 - accuracy: 0.3852 - val_loss: 1.9271 - val_accuracy: 0.3554\n",
      "Epoch 18/50\n",
      "90/90 [==============================] - 57s 631ms/step - loss: 1.7732 - accuracy: 0.4149 - val_loss: 1.8924 - val_accuracy: 0.3857\n",
      "Epoch 19/50\n",
      "90/90 [==============================] - 58s 647ms/step - loss: 1.7278 - accuracy: 0.4212 - val_loss: 1.8874 - val_accuracy: 0.4160\n",
      "Epoch 20/50\n",
      "90/90 [==============================] - 59s 657ms/step - loss: 1.6366 - accuracy: 0.4569 - val_loss: 1.7224 - val_accuracy: 0.4270\n",
      "Epoch 21/50\n",
      "90/90 [==============================] - 157s 2s/step - loss: 1.5849 - accuracy: 0.4639 - val_loss: 1.8764 - val_accuracy: 0.4573\n",
      "Epoch 22/50\n",
      "90/90 [==============================] - 56s 626ms/step - loss: 1.5569 - accuracy: 0.4713 - val_loss: 1.6805 - val_accuracy: 0.4766\n",
      "Epoch 23/50\n",
      "90/90 [==============================] - 59s 655ms/step - loss: 1.5221 - accuracy: 0.4706 - val_loss: 1.8017 - val_accuracy: 0.4325\n",
      "Epoch 24/50\n",
      "90/90 [==============================] - 57s 636ms/step - loss: 1.4445 - accuracy: 0.5028 - val_loss: 1.5985 - val_accuracy: 0.4986\n",
      "Epoch 25/50\n",
      "90/90 [==============================] - 71s 791ms/step - loss: 1.4019 - accuracy: 0.5172 - val_loss: 1.5904 - val_accuracy: 0.4959\n",
      "Epoch 26/50\n",
      "90/90 [==============================] - 62s 691ms/step - loss: 1.4035 - accuracy: 0.5235 - val_loss: 1.7541 - val_accuracy: 0.4683\n",
      "Epoch 27/50\n",
      "90/90 [==============================] - 135s 1s/step - loss: 1.4270 - accuracy: 0.5165 - val_loss: 1.5992 - val_accuracy: 0.5041\n",
      "Epoch 28/50\n",
      "90/90 [==============================] - 82s 916ms/step - loss: 1.3538 - accuracy: 0.5326 - val_loss: 1.5917 - val_accuracy: 0.5124\n",
      "Epoch 29/50\n",
      "90/90 [==============================] - 57s 634ms/step - loss: 1.2824 - accuracy: 0.5473 - val_loss: 1.6525 - val_accuracy: 0.4959\n",
      "Epoch 30/50\n",
      "90/90 [==============================] - 58s 647ms/step - loss: 1.3002 - accuracy: 0.5434 - val_loss: 1.6004 - val_accuracy: 0.5069\n",
      "Epoch 31/50\n",
      "90/90 [==============================] - 57s 636ms/step - loss: 1.3077 - accuracy: 0.5438 - val_loss: 1.6246 - val_accuracy: 0.4931\n",
      "Epoch 32/50\n",
      "90/90 [==============================] - 57s 633ms/step - loss: 1.2422 - accuracy: 0.5613 - val_loss: 1.4492 - val_accuracy: 0.5344\n",
      "Epoch 33/50\n",
      "90/90 [==============================] - 57s 636ms/step - loss: 1.2102 - accuracy: 0.5798 - val_loss: 1.5585 - val_accuracy: 0.5455\n",
      "Epoch 34/50\n",
      "90/90 [==============================] - 150s 2s/step - loss: 1.2150 - accuracy: 0.5760 - val_loss: 1.5303 - val_accuracy: 0.5620\n",
      "Epoch 35/50\n",
      "90/90 [==============================] - 60s 664ms/step - loss: 1.1841 - accuracy: 0.5847 - val_loss: 1.4017 - val_accuracy: 0.5427\n",
      "Epoch 36/50\n",
      "90/90 [==============================] - 62s 688ms/step - loss: 1.0807 - accuracy: 0.6159 - val_loss: 1.3381 - val_accuracy: 0.5399\n",
      "Epoch 37/50\n",
      "90/90 [==============================] - 60s 667ms/step - loss: 1.1252 - accuracy: 0.5882 - val_loss: 1.4214 - val_accuracy: 0.5344\n",
      "Epoch 38/50\n",
      "90/90 [==============================] - 60s 662ms/step - loss: 1.0568 - accuracy: 0.6197 - val_loss: 1.5588 - val_accuracy: 0.5455\n",
      "Epoch 39/50\n",
      "90/90 [==============================] - 61s 683ms/step - loss: 1.0972 - accuracy: 0.6106 - val_loss: 1.4751 - val_accuracy: 0.5096\n",
      "Epoch 40/50\n",
      "90/90 [==============================] - 176s 2s/step - loss: 1.0536 - accuracy: 0.6246 - val_loss: 1.7841 - val_accuracy: 0.5096\n",
      "Epoch 41/50\n",
      "90/90 [==============================] - 59s 655ms/step - loss: 1.0536 - accuracy: 0.6254 - val_loss: 1.4061 - val_accuracy: 0.5978\n",
      "Epoch 42/50\n",
      "90/90 [==============================] - 58s 644ms/step - loss: 1.0434 - accuracy: 0.6232 - val_loss: 1.5045 - val_accuracy: 0.5510\n",
      "Epoch 43/50\n",
      "90/90 [==============================] - 57s 637ms/step - loss: 1.0362 - accuracy: 0.6261 - val_loss: 1.4223 - val_accuracy: 0.5620\n",
      "Epoch 44/50\n",
      "90/90 [==============================] - 57s 634ms/step - loss: 0.9617 - accuracy: 0.6579 - val_loss: 1.4580 - val_accuracy: 0.5813\n",
      "Epoch 45/50\n",
      "90/90 [==============================] - 57s 635ms/step - loss: 0.9144 - accuracy: 0.6614 - val_loss: 1.3564 - val_accuracy: 0.5950\n",
      "Epoch 46/50\n",
      "90/90 [==============================] - 152s 2s/step - loss: 0.9795 - accuracy: 0.6537 - val_loss: 1.4950 - val_accuracy: 0.5427\n",
      "Epoch 47/50\n",
      "90/90 [==============================] - 59s 652ms/step - loss: 0.9164 - accuracy: 0.6541 - val_loss: 1.6874 - val_accuracy: 0.5592\n",
      "Epoch 48/50\n",
      "90/90 [==============================] - 56s 625ms/step - loss: 0.8995 - accuracy: 0.6674 - val_loss: 1.4857 - val_accuracy: 0.5813\n",
      "Epoch 49/50\n",
      "90/90 [==============================] - 57s 628ms/step - loss: 0.8799 - accuracy: 0.6873 - val_loss: 1.3926 - val_accuracy: 0.5730\n",
      "Epoch 50/50\n",
      "90/90 [==============================] - 57s 630ms/step - loss: 0.8211 - accuracy: 0.7024 - val_loss: 1.5294 - val_accuracy: 0.5813\n"
     ]
    }
   ],
   "source": [
    "cnn_model.compile(loss='categorical_crossentropy',\n",
    "                  optimizer='Adam',\n",
    "                  metrics=['accuracy'])\n",
    "\n",
    "history = cnn_model.fit_generator(train_data, epochs=50, validation_data=test_data, verbose=1)"
   ]
  },
  {
   "cell_type": "code",
   "execution_count": null,
   "metadata": {},
   "outputs": [],
   "source": []
  },
  {
   "cell_type": "code",
   "execution_count": 8,
   "metadata": {},
   "outputs": [
    {
     "data": {
      "image/png": "[encoded data removed]",
      "text/plain": [
       "<Figure size 432x288 with 1 Axes>"
      ]
     },
     "metadata": {
      "needs_background": "light"
     },
     "output_type": "display_data"
    }
   ],
   "source": [
    "# summarize history for accuracy\n",
    "plt.plot(history.history['accuracy'])\n",
    "plt.plot(history.history['val_accuracy'])\n",
    "plt.title('model accuracy')\n",
    "plt.ylabel('accuracy')\n",
    "plt.xlabel('epoch')\n",
    "plt.legend(['train', 'test'], loc='upper left')\n",
    "plt.show()"
   ]
  },
  {
   "cell_type": "code",
   "execution_count": 9,
   "metadata": {},
   "outputs": [
    {
     "data": {
      "image/png": "[encoded data removed]",
      "text/plain": [
       "<Figure size 432x288 with 1 Axes>"
      ]
     },
     "metadata": {
      "needs_background": "light"
     },
     "output_type": "display_data"
    }
   ],
   "source": [
    "# summarize history for loss\n",
    "plt.plot(history.history['loss'])\n",
    "plt.plot(history.history['val_loss'])\n",
    "plt.title('model loss')\n",
    "plt.ylabel('loss')\n",
    "plt.xlabel('epoch')\n",
    "plt.legend(['train', 'test'], loc='upper left')\n",
    "plt.show()"
   ]
  },
  {
   "cell_type": "code",
   "execution_count": null,
   "metadata": {},
   "outputs": [],
   "source": [
    "\n",
    "model_path ='Saved Models/gs_mcl_v1.5.h5'\n",
    "cnn_model.save(model_path)\n",
    "\n",
    "model = tf.keras.models.load_model(model_path)"
   ]
  },
  {
   "cell_type": "code",
   "execution_count": null,
   "metadata": {},
   "outputs": [],
   "source": [
    "shape = (256, 256)\n",
    "unsean_stone_path = \"Data/Unseen/emerald_2.jpg\"\n",
    "\n",
    "# #img = cv2.imread(os.path.join(unsean_stones_folder)\n",
    "img = image.load_img(unsean_stone_path, target_size=shape)\n",
    "img_arr = image.img_to_array(img)\n",
    "print(os.path.basename(unsean_stone_path))\n",
    "img"
   ]
  },
  {
   "cell_type": "code",
   "execution_count": null,
   "metadata": {},
   "outputs": [],
   "source": [
    "img_arr = np.expand_dims(img_arr, axis=0)\n",
    "prediction = model.predict_classes(img_arr)\n",
    "classess = train_data.class_indices\n",
    "for name in classess:\n",
    "    if classess[name] == int(prediction):\n",
    "        print(\"Predicts that its a: \"+name)\n",
    "    else:\n",
    "        \"Couldn't find stone name!\"\n"
   ]
  },
  {
   "cell_type": "code",
   "execution_count": null,
   "metadata": {},
   "outputs": [],
   "source": []
  }
 ],
 "metadata": {
  "kernelspec": {
   "display_name": "gpu_tf",
   "language": "python",
   "name": "gpu_tf"
  },
  "language_info": {
   "codemirror_mode": {
    "name": "ipython",
    "version": 3
   },
   "file_extension": ".py",
   "mimetype": "text/x-python",
   "name": "python",
   "nbconvert_exporter": "python",
   "pygments_lexer": "ipython3",
   "version": "3.7.9"
  }
 },
 "nbformat": 4,
 "nbformat_minor": 4
}
